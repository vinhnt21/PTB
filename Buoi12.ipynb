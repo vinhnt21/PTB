{
 "cells": [
  {
   "cell_type": "markdown",
   "metadata": {},
   "source": [
    "- Khái niệm về hàm\n",
    "- Hàm không có giá trị trả về\n",
    "- Truyền dữ liệu vào hàm\n",
    "- Phạm vi của biến"
   ]
  },
  {
   "cell_type": "code",
   "execution_count": 4,
   "metadata": {},
   "outputs": [
    {
     "name": "stdout",
     "output_type": "stream",
     "text": [
      "Tên tôi là Vinh\n",
      "Tôi thích đá bóng\n",
      "Tôi đang học Python\n",
      "other tasks\n",
      "Tên tôi là Vinh\n",
      "Tôi thích đá bóng\n",
      "Tôi đang học Python\n"
     ]
    }
   ],
   "source": [
    "def show_info():\n",
    "    print(f'Tên tôi là Vinh')\n",
    "    print(f'Tôi thích đá bóng')\n",
    "    print(f'Tôi đang học Python')\n",
    "# def - define   \n",
    "    \n",
    "show_info()\n",
    "\n",
    "print('other tasks')\n",
    "\n",
    "show_info()\n"
   ]
  },
  {
   "cell_type": "code",
   "execution_count": 12,
   "metadata": {},
   "outputs": [
    {
     "name": "stdout",
     "output_type": "stream",
     "text": [
      "aa bb cc\n",
      "aa|bb|cc☀️"
     ]
    }
   ],
   "source": [
    "print('aa','bb','cc')\n",
    "print('aa','bb','cc', sep='|', end='☀️') # sep: separate, end: end of line"
   ]
  },
  {
   "cell_type": "code",
   "execution_count": 15,
   "metadata": {},
   "outputs": [
    {
     "name": "stdout",
     "output_type": "stream",
     "text": [
      "Tên tôi là Vinh\n",
      "Tôi thích bóng đá\n",
      "Tôi đang học JavaScript\n",
      "-------------------\n",
      "Tên tôi là Huy\n",
      "Tôi thích bóng chuyền\n",
      "Tôi đang học Java\n",
      "-------------------\n",
      "Tên tôi là Nhật\n",
      "Tôi thích bóng chuyền\n",
      "Tôi đang học Python\n",
      "-------------------\n"
     ]
    },
    {
     "ename": "NameError",
     "evalue": "name 'name' is not defined",
     "output_type": "error",
     "traceback": [
      "\u001b[1;31m---------------------------------------------------------------------------\u001b[0m",
      "\u001b[1;31mNameError\u001b[0m                                 Traceback (most recent call last)",
      "Cell \u001b[1;32mIn[15], line 11\u001b[0m\n\u001b[0;32m      9\u001b[0m show_info(learning\u001b[38;5;241m=\u001b[39m\u001b[38;5;124m'\u001b[39m\u001b[38;5;124mJava\u001b[39m\u001b[38;5;124m'\u001b[39m, hobby\u001b[38;5;241m=\u001b[39m\u001b[38;5;124m'\u001b[39m\u001b[38;5;124mbóng chuyền\u001b[39m\u001b[38;5;124m'\u001b[39m, name\u001b[38;5;241m=\u001b[39m\u001b[38;5;124m'\u001b[39m\u001b[38;5;124mHuy\u001b[39m\u001b[38;5;124m'\u001b[39m)\n\u001b[0;32m     10\u001b[0m show_info(\u001b[38;5;124m'\u001b[39m\u001b[38;5;124mNhật\u001b[39m\u001b[38;5;124m'\u001b[39m, \u001b[38;5;124m'\u001b[39m\u001b[38;5;124mbóng chuyền\u001b[39m\u001b[38;5;124m'\u001b[39m)\n\u001b[1;32m---> 11\u001b[0m \u001b[38;5;28mprint\u001b[39m(\u001b[43mname\u001b[49m)\n",
      "\u001b[1;31mNameError\u001b[0m: name 'name' is not defined"
     ]
    }
   ],
   "source": [
    "def show_info(name, hobby, learning = 'Python'):\n",
    "    print(f'Tên tôi là {name}')\n",
    "    print(f'Tôi thích {hobby}')\n",
    "    print(f'Tôi đang học {learning}')\n",
    "    print('-------------------')\n",
    "    \n",
    "    \n",
    "show_info('Vinh', 'bóng đá', 'JavaScript')\n",
    "show_info(learning='Java', hobby='bóng chuyền', name='Huy')\n",
    "show_info('Nhật', 'bóng chuyền')\n",
    "# print(name)"
   ]
  }
 ],
 "metadata": {
  "kernelspec": {
   "display_name": "Python 3",
   "language": "python",
   "name": "python3"
  },
  "language_info": {
   "codemirror_mode": {
    "name": "ipython",
    "version": 3
   },
   "file_extension": ".py",
   "mimetype": "text/x-python",
   "name": "python",
   "nbconvert_exporter": "python",
   "pygments_lexer": "ipython3",
   "version": "3.12.4"
  }
 },
 "nbformat": 4,
 "nbformat_minor": 2
}
