{
 "cells": [
  {
   "cell_type": "code",
   "execution_count": 5,
   "metadata": {},
   "outputs": [
    {
     "name": "stdout",
     "output_type": "stream",
     "text": [
      "4\n",
      "3\n"
     ]
    }
   ],
   "source": [
    "import math\n",
    "n = 3.4\n",
    "n = math.ceil(n)\n",
    "print(n) \n",
    "\n",
    "n = 3.4\n",
    "n = math.floor(n)\n",
    "print(n)"
   ]
  },
  {
   "cell_type": "code",
   "execution_count": 12,
   "metadata": {},
   "outputs": [
    {
     "name": "stdout",
     "output_type": "stream",
     "text": [
      "4\n",
      "3\n"
     ]
    }
   ],
   "source": [
    "from math import ceil, floor\n",
    "n = 3.4\n",
    "n = ceil(n)\n",
    "print(n)\n",
    "\n",
    "n = 3.4\n",
    "n = floor(n)\n",
    "print(n)"
   ]
  },
  {
   "cell_type": "code",
   "execution_count": 14,
   "metadata": {},
   "outputs": [
    {
     "name": "stdout",
     "output_type": "stream",
     "text": [
      "4\n",
      "3\n"
     ]
    },
    {
     "ename": "NameError",
     "evalue": "name 'sqrt' is not defined",
     "output_type": "error",
     "traceback": [
      "\u001b[1;31m---------------------------------------------------------------------------\u001b[0m",
      "\u001b[1;31mNameError\u001b[0m                                 Traceback (most recent call last)",
      "Cell \u001b[1;32mIn[14], line 12\u001b[0m\n\u001b[0;32m      8\u001b[0m n \u001b[38;5;241m=\u001b[39m f(n)\n\u001b[0;32m      9\u001b[0m \u001b[38;5;28mprint\u001b[39m(n)\n\u001b[1;32m---> 12\u001b[0m \u001b[38;5;28mprint\u001b[39m(\u001b[43msqrt\u001b[49m(\u001b[38;5;241m4\u001b[39m))\n",
      "\u001b[1;31mNameError\u001b[0m: name 'sqrt' is not defined"
     ]
    }
   ],
   "source": [
    "from math import ceil as c, floor as f\n",
    "\n",
    "n = 3.4\n",
    "n = c(n)\n",
    "print(n)\n",
    "\n",
    "n = 3.4\n",
    "n = f(n)\n",
    "print(n)\n",
    "\n",
    "\n",
    "print(sqrt(4))"
   ]
  },
  {
   "cell_type": "code",
   "execution_count": 17,
   "metadata": {},
   "outputs": [
    {
     "name": "stdout",
     "output_type": "stream",
     "text": [
      "2.0\n"
     ]
    }
   ],
   "source": [
    "from math import *\n",
    "n = 4\n",
    "print(sqrt(n))\n"
   ]
  },
  {
   "cell_type": "code",
   "execution_count": 9,
   "metadata": {},
   "outputs": [
    {
     "name": "stdout",
     "output_type": "stream",
     "text": [
      "Điểm trung bình là:  5.67\n"
     ]
    }
   ],
   "source": [
    "toan = float(input(\"Nhập điểm toán: \"))\n",
    "van = float(input(\"Nhập điểm văn: \"))\n",
    "anh = float(input(\"Nhập điểm anh: \"))\n",
    "\n",
    "tb = (toan + van + anh) / 3\n",
    "tb =  round(tb, 2)\n",
    "print(\"Điểm trung bình là: \", tb)"
   ]
  }
 ],
 "metadata": {
  "kernelspec": {
   "display_name": "Python 3",
   "language": "python",
   "name": "python3"
  },
  "language_info": {
   "codemirror_mode": {
    "name": "ipython",
    "version": 3
   },
   "file_extension": ".py",
   "mimetype": "text/x-python",
   "name": "python",
   "nbconvert_exporter": "python",
   "pygments_lexer": "ipython3",
   "version": "3.12.4"
  }
 },
 "nbformat": 4,
 "nbformat_minor": 2
}
