{
 "cells": [
  {
   "cell_type": "markdown",
   "metadata": {},
   "source": [
    "##### Cắt chuỗi\n",
    "- Nhận 3 tham số:\n",
    "    - start: vị trí bắt đầu cắt\n",
    "    - end: vị trí kết thúc cắt\n",
    "    - step: bước nhảy"
   ]
  },
  {
   "cell_type": "code",
   "execution_count": 3,
   "metadata": {},
   "outputs": [
    {
     "name": "stdout",
     "output_type": "stream",
     "text": [
      "0123456789\n",
      "258\n",
      "2345678\n",
      "23456789\n",
      "012345678\n"
     ]
    }
   ],
   "source": [
    "s = \"0123456789\"\n",
    "print(s)\n",
    "r = s[2:9:3]\n",
    "print(r)\n",
    "r = s[2:9]\n",
    "print(r)\n",
    "r = s[2:]\n",
    "print(r)\n",
    "r = s[:9]\n",
    "print(r)\n"
   ]
  },
  {
   "cell_type": "markdown",
   "metadata": {},
   "source": [
    "##### Truy Cập Đến 1 Phần Tử Chuỗi\n"
   ]
  },
  {
   "cell_type": "code",
   "execution_count": 5,
   "metadata": {},
   "outputs": [
    {
     "name": "stdout",
     "output_type": "stream",
     "text": [
      "e\n"
     ]
    }
   ],
   "source": [
    "a = \"Hello\"\n",
    "print(a[1])"
   ]
  },
  {
   "cell_type": "markdown",
   "metadata": {},
   "source": [
    "##### Một số thao tác với chuỗi"
   ]
  },
  {
   "cell_type": "markdown",
   "metadata": {},
   "source": [
    "Biến đổi chuỗi: upper(), lower(), capitalize(), title(), swapcase(),..."
   ]
  },
  {
   "cell_type": "code",
   "execution_count": 7,
   "metadata": {},
   "outputs": [
    {
     "name": "stdout",
     "output_type": "stream",
     "text": [
      "NGUYEN THANH VINH\n",
      "nguyen thanh vinh\n",
      "Nguyen thanh vinh\n",
      "Nguyen Thanh Vinh\n",
      "nGUYEN thANH VINH\n"
     ]
    }
   ],
   "source": [
    "s = \"Nguyen THanh vinh\"\n",
    "r = s.upper()\n",
    "print(r)\n",
    "r = s.lower()\n",
    "print(r)\n",
    "r = s.capitalize()\n",
    "print(r)\n",
    "r = s.title()\n",
    "print(r)\n",
    "r = s.swapcase()\n",
    "print(r)"
   ]
  },
  {
   "cell_type": "markdown",
   "metadata": {},
   "source": [
    "##### Tìm kiếm chuỗi con trong chuỗi\n",
    "\n",
    "- find(): trả về vị trí đầu tiên của chuỗi con trong chuỗi\n",
    "    - nếu không tìm thấy trả về -1\n"
   ]
  },
  {
   "cell_type": "code",
   "execution_count": 13,
   "metadata": {},
   "outputs": [
    {
     "name": "stdout",
     "output_type": "stream",
     "text": [
      "5\n",
      "4\n",
      "-1\n"
     ]
    }
   ],
   "source": [
    "s = \"0123456789\"\n",
    "print(s.find(\"56789\"))\n",
    "s = \"aaaabbbb\"\n",
    "print(s.find(\"b\"))\n",
    "print(s.find(\"c\"))"
   ]
  },
  {
   "cell_type": "markdown",
   "metadata": {},
   "source": [
    "##### Thay thế chuỗi con trong chuỗi"
   ]
  },
  {
   "cell_type": "code",
   "execution_count": 14,
   "metadata": {},
   "outputs": [
    {
     "name": "stdout",
     "output_type": "stream",
     "text": [
      "I love you\n"
     ]
    }
   ],
   "source": [
    "s = 'I hate you'\n",
    "r = s.replace('hate', 'love')\n",
    "print(r)"
   ]
  },
  {
   "cell_type": "markdown",
   "metadata": {},
   "source": [
    "##### Tách chuỗi thành list"
   ]
  },
  {
   "cell_type": "code",
   "execution_count": 15,
   "metadata": {},
   "outputs": [
    {
     "name": "stdout",
     "output_type": "stream",
     "text": [
      "['I', 'love', 'you', 'so', 'muchhhh']\n"
     ]
    }
   ],
   "source": [
    "s = \"I love you so muchhhh\"\n",
    "r = s.split()\n",
    "print(r)"
   ]
  }
 ],
 "metadata": {
  "kernelspec": {
   "display_name": "Python 3",
   "language": "python",
   "name": "python3"
  },
  "language_info": {
   "codemirror_mode": {
    "name": "ipython",
    "version": 3
   },
   "file_extension": ".py",
   "mimetype": "text/x-python",
   "name": "python",
   "nbconvert_exporter": "python",
   "pygments_lexer": "ipython3",
   "version": "3.12.4"
  }
 },
 "nbformat": 4,
 "nbformat_minor": 2
}
